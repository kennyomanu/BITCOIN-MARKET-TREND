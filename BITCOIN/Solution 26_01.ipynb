{
 "cells": [
  {
   "cell_type": "code",
   "execution_count": 25,
   "id": "22437509",
   "metadata": {},
   "outputs": [],
   "source": [
    "#Q1a\n",
    "#Import the bitcoin csv \n",
    "import numpy as np\n",
    "import pandas as pd\n",
    "df = pd.read_csv(r\"C:\\Users\\user\\Desktop\\BTC_USD_2014-11-04_2022-02-01-CoinDesk.csv\")"
   ]
  },
  {
   "cell_type": "code",
   "execution_count": 26,
   "id": "560e796c",
   "metadata": {},
   "outputs": [],
   "source": [
    "#Q1b\n",
    "#Create a new column S/N for the dataset and make it the index\n",
    "df[\"S/N\"] = [x for x in range(1,2648)]\n",
    "df.set_index(\"S/N\", inplace=True)\n",
    "\n",
    "#Q2\n",
    "df2 = df.loc[:, [\"Date\",\"24h Open (USD)\"]]"
   ]
  },
  {
   "cell_type": "code",
   "execution_count": 27,
   "id": "9dc76589",
   "metadata": {},
   "outputs": [
    {
     "name": "stdout",
     "output_type": "stream",
     "text": [
      "HEAD\n",
      "           Date  24h Open (USD) Difference\n",
      "S/N                                       \n",
      "1    2014-11-04      323.826186        NaN\n",
      "2    2014-11-05      324.424164   0.597978\n",
      "3    2014-11-06      328.653046   4.228882\n",
      "4    2014-11-07      337.921358   9.268312\n",
      "5    2014-11-08      348.992860  11.071502\n",
      "6    2014-11-09      341.459753  -7.533107\n",
      "7    2014-11-10      344.745289   3.285536\n",
      "8    2014-11-11      371.116917  26.371628\n",
      "9    2014-11-12      367.921363  -3.195554\n",
      "10   2014-11-13      366.789056  -1.132307\n",
      "TAIL\n",
      "            Date  24h Open (USD)   Difference\n",
      "S/N                                          \n",
      "2638  2022-01-23    36483.314556 -4230.657758\n",
      "2639  2022-01-24    35070.896987 -1412.417569\n",
      "2640  2022-01-25    36285.633626  1214.736639\n",
      "2641  2022-01-26    36699.999462   414.365836\n",
      "2642  2022-01-27    36970.783896   270.784434\n",
      "2643  2022-01-28    36828.097867  -142.686029\n",
      "2644  2022-01-29    37197.309145   369.211278\n",
      "2645  2022-01-30    37748.360000   551.050855\n",
      "2646  2022-01-31    38176.886567   428.526567\n",
      "2647  2022-02-01    37925.166353  -251.720214\n"
     ]
    }
   ],
   "source": [
    "#Q3 - Method 1\n",
    "#Create a new column -Difference- and fill it with the price (24h Open (USD) ) differences between each day and a day before\n",
    "\n",
    "listA = []\n",
    "for x in range(len(df2[\"24h Open (USD)\"])):\n",
    "    if x == 0:\n",
    "        listA.append(\"NaN\")\n",
    "    else:\n",
    "        y = (df2.iloc[x,1]) - (df2.iloc[x-1,1])\n",
    "        listA.append(y)\n",
    "\n",
    "\n",
    "df2[\"Difference\"] = listA\n",
    "\n",
    "print(\"HEAD\")\n",
    "print(df2.head(10))\n",
    "print\n",
    "print(\"TAIL\")\n",
    "print(df2.tail(10))"
   ]
  },
  {
   "cell_type": "code",
   "execution_count": 28,
   "id": "457eff4b",
   "metadata": {},
   "outputs": [],
   "source": [
    "#Q3 - Method 2\n",
    "#Create a subset of the dataframe taking only 2 columns - Date and 24h Open (USD) in that order\n",
    "df3 = df.loc[:, [\"Date\",\"24h Open (USD)\"]]  #New subset\n",
    "\n"
   ]
  },
  {
   "cell_type": "code",
   "execution_count": 29,
   "id": "b9e0c07a",
   "metadata": {},
   "outputs": [
    {
     "name": "stdout",
     "output_type": "stream",
     "text": [
      "HEAD\n",
      "           Date  24h Open (USD)  Difference\n",
      "S/N                                        \n",
      "1    2014-11-04      323.826186         NaN\n",
      "2    2014-11-05      324.424164    0.597978\n",
      "3    2014-11-06      328.653046    4.228882\n",
      "4    2014-11-07      337.921358    9.268312\n",
      "5    2014-11-08      348.992860   11.071502\n",
      "6    2014-11-09      341.459753   -7.533107\n",
      "7    2014-11-10      344.745289    3.285536\n",
      "8    2014-11-11      371.116917   26.371628\n",
      "9    2014-11-12      367.921363   -3.195554\n",
      "10   2014-11-13      366.789056   -1.132307\n",
      "TAIL\n",
      "            Date  24h Open (USD)   Difference\n",
      "S/N                                          \n",
      "2638  2022-01-23    36483.314556 -4230.657758\n",
      "2639  2022-01-24    35070.896987 -1412.417569\n",
      "2640  2022-01-25    36285.633626  1214.736639\n",
      "2641  2022-01-26    36699.999462   414.365836\n",
      "2642  2022-01-27    36970.783896   270.784434\n",
      "2643  2022-01-28    36828.097867  -142.686029\n",
      "2644  2022-01-29    37197.309145   369.211278\n",
      "2645  2022-01-30    37748.360000   551.050855\n",
      "2646  2022-01-31    38176.886567   428.526567\n",
      "2647  2022-02-01    37925.166353  -251.720214\n"
     ]
    }
   ],
   "source": [
    "#Create a new column -Difference- and fill it with the price (24h Open (USD) ) differences between each day and a day before\n",
    "df3[\"Difference\"] = df3[\"24h Open (USD)\"] - df3[\"24h Open (USD)\"].shift()\n",
    "\n",
    "print(\"HEAD\")\n",
    "print(df3.head(10))\n",
    "print\n",
    "print(\"TAIL\")\n",
    "print(df3.tail(10))"
   ]
  },
  {
   "cell_type": "code",
   "execution_count": 30,
   "id": "2fede4fe",
   "metadata": {},
   "outputs": [
    {
     "data": {
      "text/html": [
       "<div>\n",
       "<style scoped>\n",
       "    .dataframe tbody tr th:only-of-type {\n",
       "        vertical-align: middle;\n",
       "    }\n",
       "\n",
       "    .dataframe tbody tr th {\n",
       "        vertical-align: top;\n",
       "    }\n",
       "\n",
       "    .dataframe thead th {\n",
       "        text-align: right;\n",
       "    }\n",
       "</style>\n",
       "<table border=\"1\" class=\"dataframe\">\n",
       "  <thead>\n",
       "    <tr style=\"text-align: right;\">\n",
       "      <th></th>\n",
       "      <th>Date</th>\n",
       "      <th>24h Open (USD)</th>\n",
       "    </tr>\n",
       "    <tr>\n",
       "      <th>S/N</th>\n",
       "      <th></th>\n",
       "      <th></th>\n",
       "    </tr>\n",
       "  </thead>\n",
       "  <tbody>\n",
       "    <tr>\n",
       "      <th>1</th>\n",
       "      <td>2014-11-04</td>\n",
       "      <td>323.826186</td>\n",
       "    </tr>\n",
       "    <tr>\n",
       "      <th>2</th>\n",
       "      <td>2014-11-05</td>\n",
       "      <td>324.424164</td>\n",
       "    </tr>\n",
       "    <tr>\n",
       "      <th>3</th>\n",
       "      <td>2014-11-06</td>\n",
       "      <td>328.653046</td>\n",
       "    </tr>\n",
       "    <tr>\n",
       "      <th>4</th>\n",
       "      <td>2014-11-07</td>\n",
       "      <td>337.921358</td>\n",
       "    </tr>\n",
       "    <tr>\n",
       "      <th>5</th>\n",
       "      <td>2014-11-08</td>\n",
       "      <td>348.992860</td>\n",
       "    </tr>\n",
       "    <tr>\n",
       "      <th>...</th>\n",
       "      <td>...</td>\n",
       "      <td>...</td>\n",
       "    </tr>\n",
       "    <tr>\n",
       "      <th>2643</th>\n",
       "      <td>2022-01-28</td>\n",
       "      <td>36828.097867</td>\n",
       "    </tr>\n",
       "    <tr>\n",
       "      <th>2644</th>\n",
       "      <td>2022-01-29</td>\n",
       "      <td>37197.309145</td>\n",
       "    </tr>\n",
       "    <tr>\n",
       "      <th>2645</th>\n",
       "      <td>2022-01-30</td>\n",
       "      <td>37748.360000</td>\n",
       "    </tr>\n",
       "    <tr>\n",
       "      <th>2646</th>\n",
       "      <td>2022-01-31</td>\n",
       "      <td>38176.886567</td>\n",
       "    </tr>\n",
       "    <tr>\n",
       "      <th>2647</th>\n",
       "      <td>2022-02-01</td>\n",
       "      <td>37925.166353</td>\n",
       "    </tr>\n",
       "  </tbody>\n",
       "</table>\n",
       "<p>2647 rows × 2 columns</p>\n",
       "</div>"
      ],
      "text/plain": [
       "            Date  24h Open (USD)\n",
       "S/N                             \n",
       "1     2014-11-04      323.826186\n",
       "2     2014-11-05      324.424164\n",
       "3     2014-11-06      328.653046\n",
       "4     2014-11-07      337.921358\n",
       "5     2014-11-08      348.992860\n",
       "...          ...             ...\n",
       "2643  2022-01-28    36828.097867\n",
       "2644  2022-01-29    37197.309145\n",
       "2645  2022-01-30    37748.360000\n",
       "2646  2022-01-31    38176.886567\n",
       "2647  2022-02-01    37925.166353\n",
       "\n",
       "[2647 rows x 2 columns]"
      ]
     },
     "execution_count": 30,
     "metadata": {},
     "output_type": "execute_result"
    }
   ],
   "source": [
    "#Q3 - Method 3\n",
    "#Create a subset of the dataframe taking only 2 columns - Date and 24h Open (USD) in that order\n",
    "df4 = df.loc[:, [\"Date\",\"24h Open (USD)\"]]  #New subset\n",
    "df4\n",
    "\n"
   ]
  },
  {
   "cell_type": "code",
   "execution_count": 31,
   "id": "5d8452c0",
   "metadata": {},
   "outputs": [
    {
     "name": "stdout",
     "output_type": "stream",
     "text": [
      "HEAD\n",
      "           Date  24h Open (USD)  Difference\n",
      "S/N                                        \n",
      "1    2014-11-04      323.826186         NaN\n",
      "2    2014-11-05      324.424164    0.597978\n",
      "3    2014-11-06      328.653046    4.228882\n",
      "4    2014-11-07      337.921358    9.268312\n",
      "5    2014-11-08      348.992860   11.071502\n",
      "6    2014-11-09      341.459753   -7.533107\n",
      "7    2014-11-10      344.745289    3.285536\n",
      "8    2014-11-11      371.116917   26.371628\n",
      "9    2014-11-12      367.921363   -3.195554\n",
      "10   2014-11-13      366.789056   -1.132307\n",
      "TAIL\n",
      "            Date  24h Open (USD)   Difference\n",
      "S/N                                          \n",
      "2638  2022-01-23    36483.314556 -4230.657758\n",
      "2639  2022-01-24    35070.896987 -1412.417569\n",
      "2640  2022-01-25    36285.633626  1214.736639\n",
      "2641  2022-01-26    36699.999462   414.365836\n",
      "2642  2022-01-27    36970.783896   270.784434\n",
      "2643  2022-01-28    36828.097867  -142.686029\n",
      "2644  2022-01-29    37197.309145   369.211278\n",
      "2645  2022-01-30    37748.360000   551.050855\n",
      "2646  2022-01-31    38176.886567   428.526567\n",
      "2647  2022-02-01    37925.166353  -251.720214\n"
     ]
    }
   ],
   "source": [
    "#Create a new column -Difference- and fill it with the price (24h Open (USD) ) differences between each day and a day before\n",
    "df4[\"Difference\"] = df4[\"24h Open (USD)\"].subtract(df4[\"24h Open (USD)\"].shift()) #shift can take an argument - periods = 1\n",
    "\n",
    "print(\"HEAD\")\n",
    "print(df4.head(10))\n",
    "print\n",
    "print(\"TAIL\")\n",
    "print(df4.tail(10))"
   ]
  },
  {
   "cell_type": "code",
   "execution_count": 32,
   "id": "0eaeda44",
   "metadata": {},
   "outputs": [],
   "source": [
    "#Q3 - Method 4\n",
    "#Create a subset of the dataframe taking only 2 columns - Date and 24h Open (USD) in that order\n",
    "df5 = df.loc[:, [\"Date\",\"24h Open (USD)\"]]  #New subset\n",
    "\n"
   ]
  },
  {
   "cell_type": "code",
   "execution_count": 33,
   "id": "7eace414",
   "metadata": {},
   "outputs": [
    {
     "name": "stdout",
     "output_type": "stream",
     "text": [
      "HEAD\n",
      "           Date  24h Open (USD)  Difference\n",
      "S/N                                        \n",
      "1    2014-11-04      323.826186         NaN\n",
      "2    2014-11-05      324.424164    0.597978\n",
      "3    2014-11-06      328.653046    4.228882\n",
      "4    2014-11-07      337.921358    9.268312\n",
      "5    2014-11-08      348.992860   11.071502\n",
      "6    2014-11-09      341.459753   -7.533107\n",
      "7    2014-11-10      344.745289    3.285536\n",
      "8    2014-11-11      371.116917   26.371628\n",
      "9    2014-11-12      367.921363   -3.195554\n",
      "10   2014-11-13      366.789056   -1.132307\n",
      "TAIL\n",
      "            Date  24h Open (USD)   Difference\n",
      "S/N                                          \n",
      "2638  2022-01-23    36483.314556 -4230.657758\n",
      "2639  2022-01-24    35070.896987 -1412.417569\n",
      "2640  2022-01-25    36285.633626  1214.736639\n",
      "2641  2022-01-26    36699.999462   414.365836\n",
      "2642  2022-01-27    36970.783896   270.784434\n",
      "2643  2022-01-28    36828.097867  -142.686029\n",
      "2644  2022-01-29    37197.309145   369.211278\n",
      "2645  2022-01-30    37748.360000   551.050855\n",
      "2646  2022-01-31    38176.886567   428.526567\n",
      "2647  2022-02-01    37925.166353  -251.720214\n"
     ]
    }
   ],
   "source": [
    "#Create a new column -Difference- and fill it with the price (24h Open (USD) ) differences between each day and a day before\n",
    "df5[\"Difference\"] = df5[\"24h Open (USD)\"].diff(periods=1)\n",
    "\n",
    "print(\"HEAD\")\n",
    "print(df5.head(10))\n",
    "print\n",
    "print(\"TAIL\")\n",
    "print(df5.tail(10))"
   ]
  },
  {
   "cell_type": "code",
   "execution_count": 34,
   "id": "27741c95",
   "metadata": {},
   "outputs": [],
   "source": [
    "#Q3 - Method 5\n",
    "#Create a subset of the dataframe taking only 2 columns - Date and 24h Open (USD) in that order\n",
    "df6 = df.loc[:, [\"Date\",\"24h Open (USD)\"]]  #New subset\n",
    "\n"
   ]
  },
  {
   "cell_type": "code",
   "execution_count": 35,
   "id": "4934a2cb",
   "metadata": {},
   "outputs": [
    {
     "name": "stdout",
     "output_type": "stream",
     "text": [
      "HEAD\n",
      "           Date  24h Open (USD)  Difference\n",
      "S/N                                        \n",
      "1    2014-11-04      323.826186         NaN\n",
      "2    2014-11-05      324.424164    0.597978\n",
      "3    2014-11-06      328.653046    4.228882\n",
      "4    2014-11-07      337.921358    9.268312\n",
      "5    2014-11-08      348.992860   11.071502\n",
      "6    2014-11-09      341.459753   -7.533107\n",
      "7    2014-11-10      344.745289    3.285536\n",
      "8    2014-11-11      371.116917   26.371628\n",
      "9    2014-11-12      367.921363   -3.195554\n",
      "10   2014-11-13      366.789056   -1.132307\n",
      "TAIL\n",
      "            Date  24h Open (USD)   Difference\n",
      "S/N                                          \n",
      "2638  2022-01-23    36483.314556 -4230.657758\n",
      "2639  2022-01-24    35070.896987 -1412.417569\n",
      "2640  2022-01-25    36285.633626  1214.736639\n",
      "2641  2022-01-26    36699.999462   414.365836\n",
      "2642  2022-01-27    36970.783896   270.784434\n",
      "2643  2022-01-28    36828.097867  -142.686029\n",
      "2644  2022-01-29    37197.309145   369.211278\n",
      "2645  2022-01-30    37748.360000   551.050855\n",
      "2646  2022-01-31    38176.886567   428.526567\n",
      "2647  2022-02-01    37925.166353  -251.720214\n"
     ]
    }
   ],
   "source": [
    "#Create a new column -Difference- and fill it with the price (24h Open (USD) ) differences between each day and a day before\n",
    "df6[\"Difference\"] = df6[\"24h Open (USD)\"].rolling(window=2).apply(lambda x: x.iloc[1] - x.iloc[0])\n",
    "\n",
    "print(\"HEAD\")\n",
    "print(df6.head(10))\n",
    "print\n",
    "print(\"TAIL\")\n",
    "print(df6.tail(10))"
   ]
  },
  {
   "cell_type": "code",
   "execution_count": 36,
   "id": "b9183e3e",
   "metadata": {},
   "outputs": [],
   "source": [
    "#Q3 - Method 6\n",
    "#Create a subset of the dataframe taking only 2 columns - Date and 24h Open (USD) in that order\n",
    "df7 = df.loc[:, [\"Date\",\"24h Open (USD)\"]]  #New subset\n",
    "\n"
   ]
  },
  {
   "cell_type": "code",
   "execution_count": 37,
   "id": "6d7a38fb",
   "metadata": {},
   "outputs": [
    {
     "name": "stdout",
     "output_type": "stream",
     "text": [
      "HEAD\n",
      "           Date  24h Open (USD)  Difference\n",
      "S/N                                        \n",
      "1    2014-11-04      323.826186         NaN\n",
      "2    2014-11-05      324.424164    0.597978\n",
      "3    2014-11-06      328.653046    4.228882\n",
      "4    2014-11-07      337.921358    9.268312\n",
      "5    2014-11-08      348.992860   11.071502\n",
      "6    2014-11-09      341.459753   -7.533107\n",
      "7    2014-11-10      344.745289    3.285536\n",
      "8    2014-11-11      371.116917   26.371628\n",
      "9    2014-11-12      367.921363   -3.195554\n",
      "10   2014-11-13      366.789056   -1.132307\n",
      "TAIL\n",
      "            Date  24h Open (USD)   Difference\n",
      "S/N                                          \n",
      "2638  2022-01-23    36483.314556 -4230.657758\n",
      "2639  2022-01-24    35070.896987 -1412.417569\n",
      "2640  2022-01-25    36285.633626  1214.736639\n",
      "2641  2022-01-26    36699.999462   414.365836\n",
      "2642  2022-01-27    36970.783896   270.784434\n",
      "2643  2022-01-28    36828.097867  -142.686029\n",
      "2644  2022-01-29    37197.309145   369.211278\n",
      "2645  2022-01-30    37748.360000   551.050855\n",
      "2646  2022-01-31    38176.886567   428.526567\n",
      "2647  2022-02-01    37925.166353  -251.720214\n"
     ]
    }
   ],
   "source": [
    "#Create a new column -Difference- and fill it with the price (24h Open (USD) ) differences between each day and a day before\n",
    "df7[\"Difference\"] = df[\"24h Open (USD)\"].rolling(window=2).apply(np.diff)\n",
    "\n",
    "print(\"HEAD\")\n",
    "print(df7.head(10))\n",
    "print\n",
    "print(\"TAIL\")\n",
    "print(df7.tail(10))\n",
    "\n"
   ]
  }
 ],
 "metadata": {
  "kernelspec": {
   "display_name": "Python 3 (ipykernel)",
   "language": "python",
   "name": "python3"
  },
  "language_info": {
   "codemirror_mode": {
    "name": "ipython",
    "version": 3
   },
   "file_extension": ".py",
   "mimetype": "text/x-python",
   "name": "python",
   "nbconvert_exporter": "python",
   "pygments_lexer": "ipython3",
   "version": "3.10.0"
  }
 },
 "nbformat": 4,
 "nbformat_minor": 5
}
